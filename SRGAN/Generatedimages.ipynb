{
 "cells": [
  {
   "cell_type": "code",
   "execution_count": 2,
   "id": "3a831407",
   "metadata": {},
   "outputs": [],
   "source": [
    "# To  generate 128x128 images from SRGAN\n",
    "\n",
    "import os\n",
    "import numpy as np\n",
    "import torch\n",
    "import cv2\n",
    "from torch.utils.data import random_split, DataLoader\n",
    "from torchvision.utils import save_image\n",
    "from tqdm import tqdm\n",
    "\n",
    "import nbimporter\n",
    "import SRGAN_body \n",
    "import Model_A_Binary_Classifier \n",
    "\n",
    "from Model_A_Binary_Classifier import set_seed, AnimalImage, get_test_transformation\n",
    "from SRGAN_body import Generator\n",
    "\n"
   ]
  },
  {
   "cell_type": "code",
   "execution_count": 3,
   "id": "66cb1fca",
   "metadata": {},
   "outputs": [],
   "source": [
    "# Function to save images from a dataloader\n",
    "def save_generated_images(dataloader, folder_name):\n",
    "    # Create the folder if it doesn't exist\n",
    "    os.makedirs(folder_name, exist_ok=True)\n",
    "\n",
    "    # Image counter for cats and dogs\n",
    "    cat_counter = 0\n",
    "    dog_counter = 0\n",
    "\n",
    "    # Loop through the dataloader\n",
    "    for i, data in enumerate(tqdm(dataloader)):\n",
    "        # Move images and labels to the same device as the generator\n",
    "        images = data[\"img\"].to(device)\n",
    "        labels = data[\"label\"].to(device)\n",
    "\n",
    "        # Generate images\n",
    "        with torch.no_grad():\n",
    "            generated_images = generator(images)\n",
    "\n",
    "        # Rescale images to [0, 255]\n",
    "        generated_images = generated_images * 255\n",
    "\n",
    "        # Save each image\n",
    "        for img, label in zip(generated_images, labels):\n",
    "            # Move to CPU and convert to numpy\n",
    "            img = img.cpu().numpy()\n",
    "            # Rescale and convert to [height, width, channels] format\n",
    "            img = np.transpose(img, (1, 2, 0))\n",
    "\n",
    "            # Determine the filename based on the label\n",
    "            filename = ''\n",
    "            if label == 1:  # Assuming 1 is for cats\n",
    "                filename = f'cat{cat_counter}.jpg'\n",
    "                cat_counter += 1\n",
    "            else:  # Assuming 0 or any other number is for dogs\n",
    "                filename = f'dog{dog_counter}.jpg'\n",
    "                dog_counter += 1\n",
    "\n",
    "            # Save the image using OpenCV\n",
    "            cv2.imwrite(os.path.join(folder_name, filename), img)"
   ]
  },
  {
   "cell_type": "code",
   "execution_count": 5,
   "id": "7a55ac38",
   "metadata": {},
   "outputs": [
    {
     "name": "stderr",
     "output_type": "stream",
     "text": [
      "Seed set to 10\n",
      "100%|██████████| 469/469 [00:23<00:00, 20.29it/s]\n",
      "100%|██████████| 79/79 [00:04<00:00, 19.43it/s]\n"
     ]
    }
   ],
   "source": [
    "if __name__ == \"__main__\":\n",
    "    batch_size = 32\n",
    "    # Set seed for reproducibility\n",
    "    seed = 10\n",
    "    set_seed(seed)\n",
    "    # Create dataset and split it into train, and validation\n",
    "    cat_dog_dataset = AnimalImage(data_root=\"/home/mdnurualabsarsiddiky/Desktop/Absar/ECGR8119/Midterm_2024/dogs_vs_cats/train\", transformation=get_test_transformation(32))\n",
    "    train_data, val_data, _ = random_split(cat_dog_dataset, [0.6, 0.1, 0.3],\n",
    "                                           generator=torch.Generator().manual_seed(seed))\n",
    "\n",
    "    train_loader = DataLoader(train_data, batch_size=batch_size, shuffle=False, drop_last=False, pin_memory=True, num_workers=4)\n",
    "    val_loader = DataLoader(val_data, batch_size=batch_size, shuffle=False, pin_memory=True, num_workers=4, drop_last=False)\n",
    "\n",
    "    device = \"cuda:0\"\n",
    "    # Create the generator\n",
    "    generator = Generator(num_residual_blocks=24).to(device)\n",
    "    generator.load_state_dict(torch.load(\"best_generator.pth\"))\n",
    "    generator.eval()\n",
    "    # Save images for training dataset\n",
    "    save_generated_images(train_loader, 'generated_train_images')\n",
    "\n",
    "    # Save images for validation dataset\n",
    "    save_generated_images(val_loader, 'generated_val_images')\n"
   ]
  },
  {
   "cell_type": "code",
   "execution_count": null,
   "id": "4df3d4c2",
   "metadata": {},
   "outputs": [],
   "source": []
  }
 ],
 "metadata": {
  "kernelspec": {
   "display_name": "Python 3",
   "language": "python",
   "name": "python3"
  },
  "language_info": {
   "codemirror_mode": {
    "name": "ipython",
    "version": 3
   },
   "file_extension": ".py",
   "mimetype": "text/x-python",
   "name": "python",
   "nbconvert_exporter": "python",
   "pygments_lexer": "ipython3",
   "version": "3.8.10"
  }
 },
 "nbformat": 4,
 "nbformat_minor": 5
}
