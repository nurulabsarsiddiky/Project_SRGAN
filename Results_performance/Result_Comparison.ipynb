{
 "cells": [
  {
   "cell_type": "code",
   "execution_count": 51,
   "id": "5b1c08b5",
   "metadata": {},
   "outputs": [],
   "source": [
    "import torch \n",
    "import random\n",
    "import torchvision.models as models \n",
    "import os\n",
    "import torch.nn.functional as F \n",
    "from PIL import Image\n",
    "import torch\n",
    "import torchvision.models as models\n",
    "import pytorch_lightning as pl\n",
    "from torchvision.models.resnet import ResNet18_Weights\n",
    "import numpy as np \n",
    "import matplotlib.pyplot as plt \n",
    "from torch.utils.data import Dataset, DataLoader, random_split\n",
    "from sklearn.metrics import accuracy_score, f1_score, roc_auc_score, confusion_matrix \n",
    "from torchvision import transforms \n",
    "from torchvision.datasets import ImageFolder \n",
    "import pytorch_lightning as pl \n",
    "from pytorch_lightning.callbacks import ModelCheckpoint \n",
    "from pytorch_lightning.loggers import TensorBoardLogger \n",
    "from torchmetrics import Accuracy, F1Score, AUROC, Precision \n"
   ]
  },
  {
   "cell_type": "code",
   "execution_count": 50,
   "id": "5462db98",
   "metadata": {},
   "outputs": [],
   "source": [
    "def set_seed(seed=10): \n",
    "\n",
    "    torch.manual_seed(seed) \n",
    "\n",
    "    np.random.seed(seed) \n",
    "\n",
    "    random.seed(seed) \n",
    "\n",
    "    os.environ['PYTHONHASHSEED'] = str(seed) \n",
    "\n",
    "    torch.backends.cudnn.deterministic = True \n",
    "\n",
    "    torch.backends.cudnn.benchmark = False \n"
   ]
  },
  {
   "cell_type": "code",
   "execution_count": 52,
   "id": "fcfddf7c",
   "metadata": {},
   "outputs": [],
   "source": [
    "# Define transformation used in test datasets \n",
    "\n",
    "def get_test_transformation(): \n",
    "\n",
    "    return transforms.Compose([ \n",
    "\n",
    "        transforms.Resize((224, 224)), \n",
    "\n",
    "        transforms.ToTensor(), \n",
    "\n",
    "        transforms.Normalize([0.485, 0.456, 0.406], [0.229, 0.224, 0.225]) \n",
    "\n",
    "    ]) \n",
    "\n",
    "  \n",
    "\n",
    "# Load test data \n",
    "\n",
    "def load_data(path): \n",
    "\n",
    "    dataset = ImageFolder(root=path, transform=get_test_transformation()) \n",
    "\n",
    "    return DataLoader(dataset, batch_size=32, shuffle=False) \n",
    "\n",
    "  \n",
    "\n",
    "# Define the model class \n",
    "\n",
    "class LitModel(pl.LightningModule): \n",
    "\n",
    "    def __init__(self, base_model, num_classes=1): \n",
    "\n",
    "        super().__init__() \n",
    "\n",
    "        self.model = base_model(pretrained=True) \n",
    "\n",
    "        self.model.fc = torch.nn.Linear(self.model.fc.in_features, num_classes) \n",
    "\n",
    "     \n",
    "\n",
    "    def forward(self, x): \n",
    "\n",
    "        x = self.model(x) \n",
    "\n",
    "        return x \n"
   ]
  },
  {
   "cell_type": "code",
   "execution_count": 53,
   "id": "c80e5a52",
   "metadata": {},
   "outputs": [],
   "source": [
    "def evaluate_model(model, loader):\n",
    "    model.eval()\n",
    "    model.cuda()\n",
    "    y_true = []\n",
    "    y_pred = []\n",
    "    with torch.no_grad():\n",
    "        for imgs, labels in loader:\n",
    "            imgs, labels = imgs.cuda(), labels.cuda()\n",
    "            outputs = model(imgs)\n",
    "            preds = torch.sigmoid(outputs).squeeze()\n",
    "            # Ensure preds are always iterable (1D)\n",
    "            if preds.dim() == 0:\n",
    "                preds = preds.unsqueeze(0)\n",
    "            preds = preds.round().cpu().numpy()\n",
    "            y_true.extend(labels.cpu().numpy())\n",
    "            y_pred.extend(preds)\n",
    "\n",
    "    accuracy = accuracy_score(y_true, y_pred)\n",
    "    f1 = f1_score(y_true, y_pred)\n",
    "    auc = roc_auc_score(y_true, y_pred)\n",
    "    cm = confusion_matrix(y_true, y_pred)\n",
    "\n",
    "    return accuracy, f1, auc, cm\n"
   ]
  },
  {
   "cell_type": "code",
   "execution_count": 54,
   "id": "d6bfe692",
   "metadata": {},
   "outputs": [],
   "source": [
    "def plot_confusion_matrix(cm, title): \n",
    "\n",
    "    plt.figure(figsize=(5, 5)) \n",
    "\n",
    "    plt.imshow(cm, interpolation='nearest', cmap=plt.cm.Blues) \n",
    "\n",
    "    plt.title(title) \n",
    "\n",
    "    plt.colorbar() \n",
    "\n",
    "    tick_marks = np.arange(2) \n",
    "\n",
    "    plt.xticks(tick_marks, [\"Dog\", \"Cat\"], rotation=45) \n",
    "\n",
    "    plt.yticks(tick_marks, [\"Dog\", \"Cat\"]) \n",
    "\n",
    "    plt.tight_layout() \n",
    "\n",
    "    plt.ylabel('True label') \n",
    "\n",
    "    plt.xlabel('Predicted label') \n",
    "\n",
    "    plt.show() "
   ]
  },
  {
   "cell_type": "code",
   "execution_count": 55,
   "id": "3ae3776a",
   "metadata": {},
   "outputs": [],
   "source": [
    "class AnimalImage(Dataset):\n",
    "    def __init__(self, data_root, transformation, mode=\"train\"):\n",
    "        self.data_root = data_root\n",
    "        self.transformation = transformation\n",
    "        self.list_imgs = [f for f in os.listdir(data_root) if f.endswith('.jpg')]\n",
    "        self.mode = mode\n",
    "\n",
    "    def __len__(self):\n",
    "        return len(self.list_imgs)\n",
    "\n",
    "    def __getitem__(self, idx):\n",
    "        img_name = self.list_imgs[idx]\n",
    "        img_path = os.path.join(self.data_root, img_name)\n",
    "        img = Image.open(img_path).convert('RGB')\n",
    "        img = self.transformation(img)\n",
    "        label = 1 if \"cat\" in img_name else 0\n",
    "        return img, label\n"
   ]
  },
  {
   "cell_type": "code",
   "execution_count": 56,
   "id": "e7a39e42",
   "metadata": {},
   "outputs": [],
   "source": [
    "class LitModel(pl.LightningModule):\n",
    "    def __init__(self, base_model, num_classes=1):\n",
    "        super().__init__()\n",
    "        self.model = base_model(weights=ResNet18_Weights.IMAGENET1K_V1)\n",
    "        self.model.fc = torch.nn.Sequential(\n",
    "            torch.nn.Linear(self.model.fc.in_features, 1000),\n",
    "            torch.nn.Linear(1000, num_classes)\n",
    "        )\n",
    "    \n",
    "    def forward(self, x):\n",
    "        return self.model(x)"
   ]
  },
  {
   "cell_type": "code",
   "execution_count": 57,
   "id": "b109997c",
   "metadata": {},
   "outputs": [],
   "source": [
    "# Assuming the model checkpoint paths are correct and they match the expected architecture\n",
    "model_a = LitModel.load_from_checkpoint(\n",
    "    checkpoint_path='./checkpoints/Model_A/resnet18-epoch=16-val_loss=0.10.ckpt',\n",
    "    base_model=models.resnet18,\n",
    "    num_classes=1\n",
    ")\n",
    "\n",
    "model_b = LitModel.load_from_checkpoint(\n",
    "    checkpoint_path='./checkpoints/Model_B/resnet18-epoch=9-val_loss=0.32.ckpt',\n",
    "    base_model=models.resnet18,\n",
    "    num_classes=1\n",
    ")\n"
   ]
  },
  {
   "cell_type": "code",
   "execution_count": 58,
   "id": "88d8f0ae",
   "metadata": {},
   "outputs": [
    {
     "name": "stdout",
     "output_type": "stream",
     "text": [
      "Model A - Accuracy: 0.98, F1 Score: 0.98, AUC: 0.98\n",
      "Model B - Accuracy: 0.79, F1 Score: 0.82, AUC: 0.79\n"
     ]
    },
    {
     "data": {
      "image/png": "[encoded data removed]",
      "text/plain": [
       "<Figure size 360x360 with 2 Axes>"
      ]
     },
     "metadata": {
      "needs_background": "light"
     },
     "output_type": "display_data"
    },
    {
     "data": {
      "image/png": "[encoded data removed]",
      "text/plain": [
       "<Figure size 360x360 with 2 Axes>"
      ]
     },
     "metadata": {
      "needs_background": "light"
     },
     "output_type": "display_data"
    }
   ],
   "source": [
    "# Set seed for reproducibility\n",
    "set_seed(42)\n",
    "\n",
    "# Load test data\n",
    "data_root = \"/home/mdnurualabsarsiddiky/Desktop/Absar/ECGR8119/Midterm_2024/dogs_vs_cats/train\"\n",
    "transformation = get_test_transformation()\n",
    "dataset = AnimalImage(data_root, transformation, mode=\"test\")\n",
    "test_size = int(0.3 * len(dataset))\n",
    "train_size = len(dataset) - test_size\n",
    "_, test_data = random_split(dataset, [train_size, test_size])\n",
    "test_loader = DataLoader(test_data, batch_size=1, shuffle=False)\n",
    "\n",
    "# Evaluate both models\n",
    "accuracy_a, f1_a, auc_a, cm_a = evaluate_model(model_a, test_loader)\n",
    "accuracy_b, f1_b, auc_b, cm_b = evaluate_model(model_b, test_loader)\n",
    "\n",
    "# Display results\n",
    "print(\"Model A - Accuracy: {:.2f}, F1 Score: {:.2f}, AUC: {:.2f}\".format(accuracy_a, f1_a, auc_a))\n",
    "print(\"Model B - Accuracy: {:.2f}, F1 Score: {:.2f}, AUC: {:.2f}\".format(accuracy_b, f1_b, auc_b))\n",
    "\n",
    "# Plot confusion matrices\n",
    "plot_confusion_matrix(cm_a, 'Confusion Matrix for Model A')\n",
    "plot_confusion_matrix(cm_b, 'Confusion Matrix for Model B')\n"
   ]
  },
  {
   "cell_type": "code",
   "execution_count": null,
   "id": "6415b14e",
   "metadata": {},
   "outputs": [],
   "source": []
  }
 ],
 "metadata": {
  "kernelspec": {
   "display_name": "Python 3",
   "language": "python",
   "name": "python3"
  },
  "language_info": {
   "codemirror_mode": {
    "name": "ipython",
    "version": 3
   },
   "file_extension": ".py",
   "mimetype": "text/x-python",
   "name": "python",
   "nbconvert_exporter": "python",
   "pygments_lexer": "ipython3",
   "version": "3.8.10"
  }
 },
 "nbformat": 4,
 "nbformat_minor": 5
}
