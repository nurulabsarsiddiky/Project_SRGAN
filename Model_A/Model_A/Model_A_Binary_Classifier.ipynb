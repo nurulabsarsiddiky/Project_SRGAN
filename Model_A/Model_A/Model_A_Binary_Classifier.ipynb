{
 "cells": [
  {
   "cell_type": "code",
   "execution_count": 1,
   "id": "ac6a8058",
   "metadata": {},
   "outputs": [
    {
     "name": "stdout",
     "output_type": "stream",
     "text": [
      "Requirement already satisfied: torchmetrics in /home/mdnurualabsarsiddiky/.local/lib/python3.8/site-packages (1.5.1)\n",
      "Requirement already satisfied: lightning-utilities>=0.8.0 in /home/mdnurualabsarsiddiky/.local/lib/python3.8/site-packages (from torchmetrics) (0.11.8)\n",
      "Requirement already satisfied: numpy<2.0,>1.20.0 in /home/mdnurualabsarsiddiky/.local/lib/python3.8/site-packages (from torchmetrics) (1.21.0)\n",
      "Requirement already satisfied: typing-extensions; python_version < \"3.9\" in /home/mdnurualabsarsiddiky/.local/lib/python3.8/site-packages (from torchmetrics) (4.11.0)\n",
      "Requirement already satisfied: torch>=1.10.0 in /home/mdnurualabsarsiddiky/.local/lib/python3.8/site-packages (from torchmetrics) (2.2.2)\n",
      "Requirement already satisfied: packaging>17.1 in /usr/lib/python3/dist-packages (from torchmetrics) (20.3)\n",
      "Requirement already satisfied: setuptools in /usr/lib/python3/dist-packages (from lightning-utilities>=0.8.0->torchmetrics) (45.2.0)\n",
      "Requirement already satisfied: nvidia-nvtx-cu12==12.1.105; platform_system == \"Linux\" and platform_machine == \"x86_64\" in /home/mdnurualabsarsiddiky/.local/lib/python3.8/site-packages (from torch>=1.10.0->torchmetrics) (12.1.105)\n",
      "Requirement already satisfied: filelock in /usr/lib/python3/dist-packages (from torch>=1.10.0->torchmetrics) (3.0.12)\n",
      "Requirement already satisfied: fsspec in /home/mdnurualabsarsiddiky/.local/lib/python3.8/site-packages (from torch>=1.10.0->torchmetrics) (2024.10.0)\n",
      "Requirement already satisfied: nvidia-cuda-runtime-cu12==12.1.105; platform_system == \"Linux\" and platform_machine == \"x86_64\" in /home/mdnurualabsarsiddiky/.local/lib/python3.8/site-packages (from torch>=1.10.0->torchmetrics) (12.1.105)\n",
      "Requirement already satisfied: sympy in /home/mdnurualabsarsiddiky/.local/lib/python3.8/site-packages (from torch>=1.10.0->torchmetrics) (1.12)\n",
      "Requirement already satisfied: nvidia-cudnn-cu12==8.9.2.26; platform_system == \"Linux\" and platform_machine == \"x86_64\" in /home/mdnurualabsarsiddiky/.local/lib/python3.8/site-packages (from torch>=1.10.0->torchmetrics) (8.9.2.26)\n",
      "Requirement already satisfied: nvidia-cufft-cu12==11.0.2.54; platform_system == \"Linux\" and platform_machine == \"x86_64\" in /home/mdnurualabsarsiddiky/.local/lib/python3.8/site-packages (from torch>=1.10.0->torchmetrics) (11.0.2.54)\n",
      "Requirement already satisfied: nvidia-cusolver-cu12==11.4.5.107; platform_system == \"Linux\" and platform_machine == \"x86_64\" in /home/mdnurualabsarsiddiky/.local/lib/python3.8/site-packages (from torch>=1.10.0->torchmetrics) (11.4.5.107)\n",
      "Requirement already satisfied: nvidia-nccl-cu12==2.19.3; platform_system == \"Linux\" and platform_machine == \"x86_64\" in /home/mdnurualabsarsiddiky/.local/lib/python3.8/site-packages (from torch>=1.10.0->torchmetrics) (2.19.3)\n",
      "Requirement already satisfied: networkx in /usr/lib/python3/dist-packages (from torch>=1.10.0->torchmetrics) (2.4)\n",
      "Requirement already satisfied: nvidia-cusparse-cu12==12.1.0.106; platform_system == \"Linux\" and platform_machine == \"x86_64\" in /home/mdnurualabsarsiddiky/.local/lib/python3.8/site-packages (from torch>=1.10.0->torchmetrics) (12.1.0.106)\n",
      "Requirement already satisfied: nvidia-cuda-cupti-cu12==12.1.105; platform_system == \"Linux\" and platform_machine == \"x86_64\" in /home/mdnurualabsarsiddiky/.local/lib/python3.8/site-packages (from torch>=1.10.0->torchmetrics) (12.1.105)\n",
      "Requirement already satisfied: jinja2 in /home/mdnurualabsarsiddiky/.local/lib/python3.8/site-packages (from torch>=1.10.0->torchmetrics) (3.1.4)\n",
      "Requirement already satisfied: nvidia-cuda-nvrtc-cu12==12.1.105; platform_system == \"Linux\" and platform_machine == \"x86_64\" in /home/mdnurualabsarsiddiky/.local/lib/python3.8/site-packages (from torch>=1.10.0->torchmetrics) (12.1.105)\n",
      "Requirement already satisfied: nvidia-cublas-cu12==12.1.3.1; platform_system == \"Linux\" and platform_machine == \"x86_64\" in /home/mdnurualabsarsiddiky/.local/lib/python3.8/site-packages (from torch>=1.10.0->torchmetrics) (12.1.3.1)\n",
      "Requirement already satisfied: triton==2.2.0; platform_system == \"Linux\" and platform_machine == \"x86_64\" and python_version < \"3.12\" in /home/mdnurualabsarsiddiky/.local/lib/python3.8/site-packages (from torch>=1.10.0->torchmetrics) (2.2.0)\n",
      "Requirement already satisfied: nvidia-curand-cu12==10.3.2.106; platform_system == \"Linux\" and platform_machine == \"x86_64\" in /home/mdnurualabsarsiddiky/.local/lib/python3.8/site-packages (from torch>=1.10.0->torchmetrics) (10.3.2.106)\n",
      "Requirement already satisfied: mpmath>=0.19 in /home/mdnurualabsarsiddiky/.local/lib/python3.8/site-packages (from sympy->torch>=1.10.0->torchmetrics) (1.3.0)\n",
      "Requirement already satisfied: nvidia-nvjitlink-cu12 in /home/mdnurualabsarsiddiky/.local/lib/python3.8/site-packages (from nvidia-cusolver-cu12==11.4.5.107; platform_system == \"Linux\" and platform_machine == \"x86_64\"->torch>=1.10.0->torchmetrics) (12.3.101)\n",
      "Requirement already satisfied: MarkupSafe>=2.0 in /home/mdnurualabsarsiddiky/.local/lib/python3.8/site-packages (from jinja2->torch>=1.10.0->torchmetrics) (2.1.5)\n"
     ]
    }
   ],
   "source": [
    "# !pip install torchmetrics\n"
   ]
  },
  {
   "cell_type": "code",
   "execution_count": 2,
   "id": "33e5a49d",
   "metadata": {},
   "outputs": [
    {
     "name": "stdout",
     "output_type": "stream",
     "text": [
      "Requirement already satisfied: lightning in /home/mdnurualabsarsiddiky/.local/lib/python3.8/site-packages (2.3.3)\n",
      "Requirement already satisfied: packaging<25.0,>=20.0 in /usr/lib/python3/dist-packages (from lightning) (20.3)\n",
      "Requirement already satisfied: tqdm<6.0,>=4.57.0 in /home/mdnurualabsarsiddiky/.local/lib/python3.8/site-packages (from lightning) (4.66.5)\n",
      "Requirement already satisfied: numpy<3.0,>=1.17.2 in /home/mdnurualabsarsiddiky/.local/lib/python3.8/site-packages (from lightning) (1.21.0)\n",
      "Requirement already satisfied: torch<4.0,>=2.0.0 in /home/mdnurualabsarsiddiky/.local/lib/python3.8/site-packages (from lightning) (2.2.2)\n",
      "Requirement already satisfied: pytorch-lightning in /home/mdnurualabsarsiddiky/.local/lib/python3.8/site-packages (from lightning) (2.4.0)\n",
      "Requirement already satisfied: PyYAML<8.0,>=5.4 in /home/mdnurualabsarsiddiky/.local/lib/python3.8/site-packages (from lightning) (6.0.2)\n",
      "Requirement already satisfied: torchmetrics<3.0,>=0.7.0 in /home/mdnurualabsarsiddiky/.local/lib/python3.8/site-packages (from lightning) (1.5.1)\n",
      "Requirement already satisfied: fsspec[http]<2026.0,>=2022.5.0 in /home/mdnurualabsarsiddiky/.local/lib/python3.8/site-packages (from lightning) (2024.10.0)\n",
      "Requirement already satisfied: lightning-utilities<2.0,>=0.10.0 in /home/mdnurualabsarsiddiky/.local/lib/python3.8/site-packages (from lightning) (0.11.8)\n",
      "Requirement already satisfied: typing-extensions<6.0,>=4.4.0 in /home/mdnurualabsarsiddiky/.local/lib/python3.8/site-packages (from lightning) (4.11.0)\n",
      "Requirement already satisfied: nvidia-cublas-cu12==12.1.3.1; platform_system == \"Linux\" and platform_machine == \"x86_64\" in /home/mdnurualabsarsiddiky/.local/lib/python3.8/site-packages (from torch<4.0,>=2.0.0->lightning) (12.1.3.1)\n",
      "Requirement already satisfied: jinja2 in /home/mdnurualabsarsiddiky/.local/lib/python3.8/site-packages (from torch<4.0,>=2.0.0->lightning) (3.1.4)\n",
      "Requirement already satisfied: nvidia-cuda-runtime-cu12==12.1.105; platform_system == \"Linux\" and platform_machine == \"x86_64\" in /home/mdnurualabsarsiddiky/.local/lib/python3.8/site-packages (from torch<4.0,>=2.0.0->lightning) (12.1.105)\n",
      "Requirement already satisfied: nvidia-nvtx-cu12==12.1.105; platform_system == \"Linux\" and platform_machine == \"x86_64\" in /home/mdnurualabsarsiddiky/.local/lib/python3.8/site-packages (from torch<4.0,>=2.0.0->lightning) (12.1.105)\n",
      "Requirement already satisfied: triton==2.2.0; platform_system == \"Linux\" and platform_machine == \"x86_64\" and python_version < \"3.12\" in /home/mdnurualabsarsiddiky/.local/lib/python3.8/site-packages (from torch<4.0,>=2.0.0->lightning) (2.2.0)\n",
      "Requirement already satisfied: nvidia-cufft-cu12==11.0.2.54; platform_system == \"Linux\" and platform_machine == \"x86_64\" in /home/mdnurualabsarsiddiky/.local/lib/python3.8/site-packages (from torch<4.0,>=2.0.0->lightning) (11.0.2.54)\n",
      "Requirement already satisfied: filelock in /usr/lib/python3/dist-packages (from torch<4.0,>=2.0.0->lightning) (3.0.12)\n",
      "Requirement already satisfied: nvidia-cuda-nvrtc-cu12==12.1.105; platform_system == \"Linux\" and platform_machine == \"x86_64\" in /home/mdnurualabsarsiddiky/.local/lib/python3.8/site-packages (from torch<4.0,>=2.0.0->lightning) (12.1.105)\n",
      "Requirement already satisfied: nvidia-cuda-cupti-cu12==12.1.105; platform_system == \"Linux\" and platform_machine == \"x86_64\" in /home/mdnurualabsarsiddiky/.local/lib/python3.8/site-packages (from torch<4.0,>=2.0.0->lightning) (12.1.105)\n",
      "Requirement already satisfied: nvidia-curand-cu12==10.3.2.106; platform_system == \"Linux\" and platform_machine == \"x86_64\" in /home/mdnurualabsarsiddiky/.local/lib/python3.8/site-packages (from torch<4.0,>=2.0.0->lightning) (10.3.2.106)\n",
      "Requirement already satisfied: sympy in /home/mdnurualabsarsiddiky/.local/lib/python3.8/site-packages (from torch<4.0,>=2.0.0->lightning) (1.12)\n",
      "Requirement already satisfied: networkx in /usr/lib/python3/dist-packages (from torch<4.0,>=2.0.0->lightning) (2.4)\n",
      "Requirement already satisfied: nvidia-cudnn-cu12==8.9.2.26; platform_system == \"Linux\" and platform_machine == \"x86_64\" in /home/mdnurualabsarsiddiky/.local/lib/python3.8/site-packages (from torch<4.0,>=2.0.0->lightning) (8.9.2.26)\n",
      "Requirement already satisfied: nvidia-cusparse-cu12==12.1.0.106; platform_system == \"Linux\" and platform_machine == \"x86_64\" in /home/mdnurualabsarsiddiky/.local/lib/python3.8/site-packages (from torch<4.0,>=2.0.0->lightning) (12.1.0.106)\n",
      "Requirement already satisfied: nvidia-nccl-cu12==2.19.3; platform_system == \"Linux\" and platform_machine == \"x86_64\" in /home/mdnurualabsarsiddiky/.local/lib/python3.8/site-packages (from torch<4.0,>=2.0.0->lightning) (2.19.3)\n",
      "Requirement already satisfied: nvidia-cusolver-cu12==11.4.5.107; platform_system == \"Linux\" and platform_machine == \"x86_64\" in /home/mdnurualabsarsiddiky/.local/lib/python3.8/site-packages (from torch<4.0,>=2.0.0->lightning) (11.4.5.107)\n",
      "Requirement already satisfied: aiohttp!=4.0.0a0,!=4.0.0a1; extra == \"http\" in /home/mdnurualabsarsiddiky/.local/lib/python3.8/site-packages (from fsspec[http]<2026.0,>=2022.5.0->lightning) (3.9.5)\n",
      "Requirement already satisfied: setuptools in /usr/lib/python3/dist-packages (from lightning-utilities<2.0,>=0.10.0->lightning) (45.2.0)\n",
      "Requirement already satisfied: MarkupSafe>=2.0 in /home/mdnurualabsarsiddiky/.local/lib/python3.8/site-packages (from jinja2->torch<4.0,>=2.0.0->lightning) (2.1.5)\n",
      "Requirement already satisfied: mpmath>=0.19 in /home/mdnurualabsarsiddiky/.local/lib/python3.8/site-packages (from sympy->torch<4.0,>=2.0.0->lightning) (1.3.0)\n",
      "Requirement already satisfied: nvidia-nvjitlink-cu12 in /home/mdnurualabsarsiddiky/.local/lib/python3.8/site-packages (from nvidia-cusparse-cu12==12.1.0.106; platform_system == \"Linux\" and platform_machine == \"x86_64\"->torch<4.0,>=2.0.0->lightning) (12.3.101)\n",
      "Requirement already satisfied: async-timeout<5.0,>=4.0; python_version < \"3.11\" in /home/mdnurualabsarsiddiky/.local/lib/python3.8/site-packages (from aiohttp!=4.0.0a0,!=4.0.0a1; extra == \"http\"->fsspec[http]<2026.0,>=2022.5.0->lightning) (4.0.3)\n",
      "Requirement already satisfied: aiosignal>=1.1.2 in /home/mdnurualabsarsiddiky/.local/lib/python3.8/site-packages (from aiohttp!=4.0.0a0,!=4.0.0a1; extra == \"http\"->fsspec[http]<2026.0,>=2022.5.0->lightning) (1.3.1)\n",
      "Requirement already satisfied: attrs>=17.3.0 in /usr/lib/python3/dist-packages (from aiohttp!=4.0.0a0,!=4.0.0a1; extra == \"http\"->fsspec[http]<2026.0,>=2022.5.0->lightning) (19.3.0)\n",
      "Requirement already satisfied: multidict<7.0,>=4.5 in /home/mdnurualabsarsiddiky/.local/lib/python3.8/site-packages (from aiohttp!=4.0.0a0,!=4.0.0a1; extra == \"http\"->fsspec[http]<2026.0,>=2022.5.0->lightning) (6.0.5)\n",
      "Requirement already satisfied: frozenlist>=1.1.1 in /home/mdnurualabsarsiddiky/.local/lib/python3.8/site-packages (from aiohttp!=4.0.0a0,!=4.0.0a1; extra == \"http\"->fsspec[http]<2026.0,>=2022.5.0->lightning) (1.4.1)\n",
      "Requirement already satisfied: yarl<2.0,>=1.0 in /home/mdnurualabsarsiddiky/.local/lib/python3.8/site-packages (from aiohttp!=4.0.0a0,!=4.0.0a1; extra == \"http\"->fsspec[http]<2026.0,>=2022.5.0->lightning) (1.9.4)\n",
      "Requirement already satisfied: idna>=2.0 in /usr/lib/python3/dist-packages (from yarl<2.0,>=1.0->aiohttp!=4.0.0a0,!=4.0.0a1; extra == \"http\"->fsspec[http]<2026.0,>=2022.5.0->lightning) (2.8)\n"
     ]
    }
   ],
   "source": [
    "# !pip install lightning"
   ]
  },
  {
   "cell_type": "code",
   "execution_count": 3,
   "id": "a6eada08",
   "metadata": {},
   "outputs": [],
   "source": [
    "import random\n",
    "import numpy as np\n",
    "import os\n",
    "import torch\n",
    "from torch import optim\n",
    "from torch.utils.data import Dataset, random_split, DataLoader\n",
    "from torchmetrics import Accuracy, F1Score, AUROC, Precision\n",
    "from torchvision import transforms\n",
    "from torchvision.models import VGG16_Weights, ResNet18_Weights\n",
    "from torch.nn import functional as F\n",
    "import lightning.pytorch as pl\n",
    "from lightning.pytorch import loggers as pl_loggers\n",
    "from lightning.pytorch.loggers import TensorBoardLogger\n",
    "import torchvision.models\n",
    "from PIL import Image\n",
    "from lightning.pytorch.callbacks import EarlyStopping, ModelCheckpoint\n"
   ]
  },
  {
   "cell_type": "code",
   "execution_count": 4,
   "id": "9fba2009",
   "metadata": {},
   "outputs": [],
   "source": [
    "def get_transformation(size=128):\n",
    "    return transforms.Compose([\n",
    "        transforms.Resize(size=(size, size)),\n",
    "        transforms.RandomRotation(degrees=(-45, 45)),\n",
    "        transforms.RandomHorizontalFlip(),\n",
    "        transforms.ToTensor(),\n",
    "        transforms.RandomApply(torch.nn.ModuleList([transforms.GaussianBlur(kernel_size=3)]), p=0.5),\n",
    "        transforms.RandomApply(\n",
    "            torch.nn.ModuleList([transforms.ColorJitter(brightness=0.5, contrast=0.5, saturation=0.2, hue=0.2)]),\n",
    "            p=0.5),\n",
    "        transforms.Normalize((0.485, 0.456, 0.406), (0.229, 0.224, 0.225))\n",
    "\n",
    "    ])\n"
   ]
  },
  {
   "cell_type": "code",
   "execution_count": 5,
   "id": "1199b2bd",
   "metadata": {},
   "outputs": [],
   "source": [
    "def get_test_transformation(size=224):\n",
    "    return transforms.Compose([\n",
    "        transforms.Resize(size=(size, size)),\n",
    "        transforms.ToTensor(),\n",
    "        transforms.Normalize((0.485, 0.456, 0.406), (0.229, 0.224, 0.225))\n",
    "    ])\n"
   ]
  },
  {
   "cell_type": "code",
   "execution_count": 6,
   "id": "7319f298",
   "metadata": {},
   "outputs": [],
   "source": [
    "class AnimalImage(Dataset):\n",
    "    def __init__(self, data_root, transformation, mode=\"train\"):\n",
    "        self.data_root = data_root\n",
    "        self.transformation = transformation\n",
    "        self.list_imgs = os.listdir(self.data_root)\n",
    "        self.mode = mode\n",
    "\n",
    "    def __len__(self):\n",
    "        return len(self.list_imgs)\n",
    "\n",
    "    def __getitem__(self, idx):\n",
    "        img_name = self.list_imgs[idx]\n",
    "        img = self.load_img(img_path=self.data_root + \"/\" + img_name)\n",
    "        img = self.transformation(img)\n",
    "        label = 0  # if it's a dog then label = 0\n",
    "        if \"cat\" in img_name:\n",
    "            label = 1\n",
    "\n",
    "        return {\"img\": img, \"label\": label}\n",
    "\n",
    "    def load_img(self, img_path):\n",
    "        img = Image.open(img_path)\n",
    "        return img\n"
   ]
  },
  {
   "cell_type": "code",
   "execution_count": 7,
   "id": "152a1b53",
   "metadata": {},
   "outputs": [],
   "source": [
    "class Model(pl.LightningModule):\n",
    "    def __init__(self, model, lr, wd):\n",
    "        super().__init__()\n",
    "        # Define metrics for binary classification\n",
    "        self.initialize_metrics()\n",
    "        self.model = model\n",
    "        self.model.fc = torch.nn.Sequential(\n",
    "            model.fc,\n",
    "            torch.nn.Linear(1000, 1),\n",
    "        )\n",
    "\n",
    "        self.lr = lr\n",
    "        self.wd = wd\n",
    "\n",
    "    def initialize_metrics(self):\n",
    "        task = \"binary\"\n",
    "        self.metrics_list = [\"accuracy\", \"precision\", \"f1\", \"auc\"]\n",
    "        self.sessions = [\"train\", \"val\", \"test\"]\n",
    "        self.classes = [(\"cat\", 1), (\"dog\", 0)]\n",
    "\n",
    "        self.train_ac = Accuracy(task=task, average=\"macro\")\n",
    "        self.val_ac = Accuracy(task=task, average=\"macro\")\n",
    "        self.test_ac = Accuracy(task=task, average=\"macro\")\n",
    "\n",
    "        self.train_p = Precision(task=task, average=\"macro\")\n",
    "        self.val_p = Precision(task=task, average=\"macro\")\n",
    "        self.test_p = Precision(task=task, average=\"macro\")\n",
    "\n",
    "        self.train_f1 = F1Score(task=task, average=\"macro\")\n",
    "        self.val_f1 = F1Score(task=task, average=\"macro\")\n",
    "        self.test_f1 = F1Score(task=task, average=\"macro\")\n",
    "\n",
    "        self.train_auc = AUROC(task=task, average=\"macro\")\n",
    "        self.val_auc = AUROC(task=task, average=\"macro\")\n",
    "        self.test_auc = AUROC(task=task, average=\"macro\")\n",
    "\n",
    "        self.metrics = {\"train\": [self.train_ac, self.train_p, self.train_f1, self.train_auc],\n",
    "                        \"val\": [self.val_ac, self.val_p, self.val_f1, self.val_auc],\n",
    "                        \"test\": [self.test_ac, self.test_p, self.test_f1, self.test_auc],\n",
    "                        }\n",
    "        self.step_output = {\"train\": [], \"val\": [], \"test\": []}\n",
    "        self.mean_log_keys = [\"loss\"]\n",
    "\n",
    "    def configure_optimizers(self):\n",
    "        optimizer = optim.AdamW(self.parameters(), lr=self.lr, weight_decay=self.wd)\n",
    "        scheduler = torch.optim.lr_scheduler.CosineAnnealingLR(optimizer, T_max=50, eta_min=1e-6)\n",
    "        return [optimizer], [scheduler]\n",
    "\n",
    "    def forward(self, x):\n",
    "        x = self.model(x)\n",
    "        return x\n",
    "\n",
    "    # Calculate the loss for the given batch\n",
    "    def _calculate_loss(self, batch):\n",
    "        imgs, labels = batch[\"img\"], batch[\"label\"].float().unsqueeze(1)\n",
    "        preds = self.forward(imgs)\n",
    "        loss = F.binary_cross_entropy_with_logits(preds, labels)\n",
    "        return {\"loss\": loss, \"preds\": preds, \"labels\": labels}\n",
    "\n",
    "    # For model A\n",
    "          # Training step\n",
    "    def training_step(self, batch, batch_idx):\n",
    "        output = self._calculate_loss(batch)\n",
    "        self.step_output[\"train\"].append(output)\n",
    "        return output[\"loss\"]\n",
    "    def on_train_epoch_end(self):\n",
    "        self.stack_update(session=\"train\")\n",
    "\n",
    "    # Validation:\n",
    "    def validation_step(self, batch, batch_idx):\n",
    "        output = self._calculate_loss(batch)\n",
    "        self.step_output[\"val\"].append(output)\n",
    "        return output[\"loss\"]\n",
    "    def on_validation_epoch_end(self):\n",
    "        self.stack_update(session=\"val\")\n",
    "\n",
    "    # Test:\n",
    "    def test_step(self, batch, batch_idx):\n",
    "        output = self._calculate_loss(batch)\n",
    "        self.step_output[\"test\"].append(output)\n",
    "        return output[\"loss\"]\n",
    "\n",
    "    # Actions to perform at the end of each test epoch\n",
    "    def on_test_epoch_end(self, ):\n",
    "        self.stack_update(session=\"test\")\n",
    "\n",
    "    # Update metrics with predictions and labels\n",
    "    def update_metrics(self, session, preds, labels):\n",
    "        for metric in self.metrics[session]:\n",
    "            metric.update(preds, labels)\n",
    "            \n",
    "    # Preparation for Model B: SRGAN model\n",
    "    def stack_update(self, session):\n",
    "        all_preds = torch.cat([out[\"preds\"] for out in self.step_output[session]])\n",
    "        all_labels = torch.cat([out[\"labels\"] for out in self.step_output[session]])\n",
    "        log = {}\n",
    "        for key in self.mean_log_keys:\n",
    "            log[f\"{session}_{key}\"] = torch.stack([out[key] for out in self.step_output[session]]).mean()\n",
    "\n",
    "        self.update_metrics(session=session, preds=all_preds, labels=all_labels)\n",
    "        res = self.compute_metrics(session=session)\n",
    "        self.add_log(session, res, log)\n",
    "        self.log_dict(log, sync_dist=True, on_epoch=True, prog_bar=True, logger=True)\n",
    "        self.restart_metrics(session=session)\n",
    "\n",
    "        return all_preds, all_labels\n",
    "\n",
    "    def compute_metrics(self, session):\n",
    "        res = {}\n",
    "        for metric, metric_name in zip(self.metrics[session], self.metrics_list):\n",
    "            res[metric_name] = metric.compute()\n",
    "        return res\n",
    "\n",
    "    def restart_metrics(self, session):\n",
    "        for metric in self.metrics[session]:\n",
    "            metric.reset()\n",
    "        self.step_output[session].clear()  # free memory\n",
    "\n",
    "    # Metrics to the SRGAN_train.log\n",
    "    \n",
    "    def add_log(self, session, res, log):\n",
    "        for metric in self.metrics_list:\n",
    "            log[session + f\"_{metric}\"] = res[metric]\n",
    "\n"
   ]
  },
  {
   "cell_type": "code",
   "execution_count": 8,
   "id": "53d83f1b",
   "metadata": {},
   "outputs": [],
   "source": [
    "def set_seed(seed=10):\n",
    "    pl.seed_everything(seed)\n",
    "    np.random.seed(seed=seed)\n",
    "    torch.cuda.manual_seed(seed)\n",
    "    torch.cuda.manual_seed_all(seed)\n",
    "    torch.random.manual_seed(seed)\n",
    "    random.seed(seed)\n",
    "    torch.backends.cudnn.deterministic = True\n",
    "    torch.backends.cudnn.benchmark = False\n",
    "    os.environ['PYTHONHASHSEED'] = str(seed)\n",
    "    torch.set_float32_matmul_precision('medium')\n"
   ]
  },
  {
   "cell_type": "code",
   "execution_count": 9,
   "id": "183afe7f",
   "metadata": {},
   "outputs": [
    {
     "name": "stderr",
     "output_type": "stream",
     "text": [
      "Seed set to 10\n",
      "Trainer will use only 1 of 2 GPUs because it is running inside an interactive / notebook environment. You may try to set `Trainer(devices=2)` but please note that multi-GPU inside interactive / notebook environments is considered experimental and unstable. Your mileage may vary.\n",
      "GPU available: True (cuda), used: True\n",
      "TPU available: False, using: 0 TPU cores\n",
      "HPU available: False, using: 0 HPUs\n",
      "Missing logger folder: checkpoints/Model_A/tb_log/resnet18\n",
      "/home/mdnurualabsarsiddiky/.local/lib/python3.8/site-packages/pandas/core/computation/expressions.py:20: UserWarning: Pandas requires version '2.7.3' or newer of 'numexpr' (version '2.7.1' currently installed).\n",
      "  from pandas.core.computation.check import NUMEXPR_INSTALLED\n",
      "/home/mdnurualabsarsiddiky/.local/lib/python3.8/site-packages/lightning/pytorch/callbacks/model_checkpoint.py:652: Checkpoint directory /home/mdnurualabsarsiddiky/Desktop/Absar/ECGR8119/Midterm_2024/Model_A/checkpoints/Model_A exists and is not empty.\n",
      "LOCAL_RANK: 0 - CUDA_VISIBLE_DEVICES: [0,1]\n",
      "\n",
      "   | Name      | Type            | Params | Mode \n",
      "-------------------------------------------------------\n",
      "0  | train_ac  | BinaryAccuracy  | 0      | train\n",
      "1  | val_ac    | BinaryAccuracy  | 0      | train\n",
      "2  | test_ac   | BinaryAccuracy  | 0      | train\n",
      "3  | train_p   | BinaryPrecision | 0      | train\n",
      "4  | val_p     | BinaryPrecision | 0      | train\n",
      "5  | test_p    | BinaryPrecision | 0      | train\n",
      "6  | train_f1  | BinaryF1Score   | 0      | train\n",
      "7  | val_f1    | BinaryF1Score   | 0      | train\n",
      "8  | test_f1   | BinaryF1Score   | 0      | train\n",
      "9  | train_auc | BinaryAUROC     | 0      | train\n",
      "10 | val_auc   | BinaryAUROC     | 0      | train\n",
      "11 | test_auc  | BinaryAUROC     | 0      | train\n",
      "12 | model     | ResNet          | 11.7 M | train\n",
      "-------------------------------------------------------\n",
      "11.7 M    Trainable params\n",
      "0         Non-trainable params\n",
      "11.7 M    Total params\n",
      "46.762    Total estimated model params size (MB)\n"
     ]
    },
    {
     "data": {
      "application/vnd.jupyter.widget-view+json": {
       "model_id": "",
       "version_major": 2,
       "version_minor": 0
      },
      "text/plain": [
       "Sanity Checking: |          | 0/? [00:00<?, ?it/s]"
      ]
     },
     "metadata": {},
     "output_type": "display_data"
    },
    {
     "data": {
      "application/vnd.jupyter.widget-view+json": {
       "model_id": "e353272876674d01856924a05b793ab0",
       "version_major": 2,
       "version_minor": 0
      },
      "text/plain": [
       "Training: |          | 0/? [00:00<?, ?it/s]"
      ]
     },
     "metadata": {},
     "output_type": "display_data"
    },
    {
     "data": {
      "application/vnd.jupyter.widget-view+json": {
       "model_id": "",
       "version_major": 2,
       "version_minor": 0
      },
      "text/plain": [
       "Validation: |          | 0/? [00:00<?, ?it/s]"
      ]
     },
     "metadata": {},
     "output_type": "display_data"
    },
    {
     "data": {
      "application/vnd.jupyter.widget-view+json": {
       "model_id": "",
       "version_major": 2,
       "version_minor": 0
      },
      "text/plain": [
       "Validation: |          | 0/? [00:00<?, ?it/s]"
      ]
     },
     "metadata": {},
     "output_type": "display_data"
    },
    {
     "data": {
      "application/vnd.jupyter.widget-view+json": {
       "model_id": "",
       "version_major": 2,
       "version_minor": 0
      },
      "text/plain": [
       "Validation: |          | 0/? [00:00<?, ?it/s]"
      ]
     },
     "metadata": {},
     "output_type": "display_data"
    },
    {
     "data": {
      "application/vnd.jupyter.widget-view+json": {
       "model_id": "",
       "version_major": 2,
       "version_minor": 0
      },
      "text/plain": [
       "Validation: |          | 0/? [00:00<?, ?it/s]"
      ]
     },
     "metadata": {},
     "output_type": "display_data"
    },
    {
     "data": {
      "application/vnd.jupyter.widget-view+json": {
       "model_id": "",
       "version_major": 2,
       "version_minor": 0
      },
      "text/plain": [
       "Validation: |          | 0/? [00:00<?, ?it/s]"
      ]
     },
     "metadata": {},
     "output_type": "display_data"
    },
    {
     "data": {
      "application/vnd.jupyter.widget-view+json": {
       "model_id": "",
       "version_major": 2,
       "version_minor": 0
      },
      "text/plain": [
       "Validation: |          | 0/? [00:00<?, ?it/s]"
      ]
     },
     "metadata": {},
     "output_type": "display_data"
    },
    {
     "data": {
      "application/vnd.jupyter.widget-view+json": {
       "model_id": "",
       "version_major": 2,
       "version_minor": 0
      },
      "text/plain": [
       "Validation: |          | 0/? [00:00<?, ?it/s]"
      ]
     },
     "metadata": {},
     "output_type": "display_data"
    },
    {
     "data": {
      "application/vnd.jupyter.widget-view+json": {
       "model_id": "",
       "version_major": 2,
       "version_minor": 0
      },
      "text/plain": [
       "Validation: |          | 0/? [00:00<?, ?it/s]"
      ]
     },
     "metadata": {},
     "output_type": "display_data"
    },
    {
     "data": {
      "application/vnd.jupyter.widget-view+json": {
       "model_id": "",
       "version_major": 2,
       "version_minor": 0
      },
      "text/plain": [
       "Validation: |          | 0/? [00:00<?, ?it/s]"
      ]
     },
     "metadata": {},
     "output_type": "display_data"
    },
    {
     "data": {
      "application/vnd.jupyter.widget-view+json": {
       "model_id": "",
       "version_major": 2,
       "version_minor": 0
      },
      "text/plain": [
       "Validation: |          | 0/? [00:00<?, ?it/s]"
      ]
     },
     "metadata": {},
     "output_type": "display_data"
    },
    {
     "data": {
      "application/vnd.jupyter.widget-view+json": {
       "model_id": "",
       "version_major": 2,
       "version_minor": 0
      },
      "text/plain": [
       "Validation: |          | 0/? [00:00<?, ?it/s]"
      ]
     },
     "metadata": {},
     "output_type": "display_data"
    },
    {
     "data": {
      "application/vnd.jupyter.widget-view+json": {
       "model_id": "",
       "version_major": 2,
       "version_minor": 0
      },
      "text/plain": [
       "Validation: |          | 0/? [00:00<?, ?it/s]"
      ]
     },
     "metadata": {},
     "output_type": "display_data"
    },
    {
     "data": {
      "application/vnd.jupyter.widget-view+json": {
       "model_id": "",
       "version_major": 2,
       "version_minor": 0
      },
      "text/plain": [
       "Validation: |          | 0/? [00:00<?, ?it/s]"
      ]
     },
     "metadata": {},
     "output_type": "display_data"
    },
    {
     "data": {
      "application/vnd.jupyter.widget-view+json": {
       "model_id": "",
       "version_major": 2,
       "version_minor": 0
      },
      "text/plain": [
       "Validation: |          | 0/? [00:00<?, ?it/s]"
      ]
     },
     "metadata": {},
     "output_type": "display_data"
    },
    {
     "data": {
      "application/vnd.jupyter.widget-view+json": {
       "model_id": "",
       "version_major": 2,
       "version_minor": 0
      },
      "text/plain": [
       "Validation: |          | 0/? [00:00<?, ?it/s]"
      ]
     },
     "metadata": {},
     "output_type": "display_data"
    },
    {
     "data": {
      "application/vnd.jupyter.widget-view+json": {
       "model_id": "",
       "version_major": 2,
       "version_minor": 0
      },
      "text/plain": [
       "Validation: |          | 0/? [00:00<?, ?it/s]"
      ]
     },
     "metadata": {},
     "output_type": "display_data"
    },
    {
     "data": {
      "application/vnd.jupyter.widget-view+json": {
       "model_id": "",
       "version_major": 2,
       "version_minor": 0
      },
      "text/plain": [
       "Validation: |          | 0/? [00:00<?, ?it/s]"
      ]
     },
     "metadata": {},
     "output_type": "display_data"
    },
    {
     "data": {
      "application/vnd.jupyter.widget-view+json": {
       "model_id": "",
       "version_major": 2,
       "version_minor": 0
      },
      "text/plain": [
       "Validation: |          | 0/? [00:00<?, ?it/s]"
      ]
     },
     "metadata": {},
     "output_type": "display_data"
    },
    {
     "data": {
      "application/vnd.jupyter.widget-view+json": {
       "model_id": "",
       "version_major": 2,
       "version_minor": 0
      },
      "text/plain": [
       "Validation: |          | 0/? [00:00<?, ?it/s]"
      ]
     },
     "metadata": {},
     "output_type": "display_data"
    },
    {
     "data": {
      "application/vnd.jupyter.widget-view+json": {
       "model_id": "",
       "version_major": 2,
       "version_minor": 0
      },
      "text/plain": [
       "Validation: |          | 0/? [00:00<?, ?it/s]"
      ]
     },
     "metadata": {},
     "output_type": "display_data"
    },
    {
     "data": {
      "application/vnd.jupyter.widget-view+json": {
       "model_id": "",
       "version_major": 2,
       "version_minor": 0
      },
      "text/plain": [
       "Validation: |          | 0/? [00:00<?, ?it/s]"
      ]
     },
     "metadata": {},
     "output_type": "display_data"
    },
    {
     "data": {
      "application/vnd.jupyter.widget-view+json": {
       "model_id": "",
       "version_major": 2,
       "version_minor": 0
      },
      "text/plain": [
       "Validation: |          | 0/? [00:00<?, ?it/s]"
      ]
     },
     "metadata": {},
     "output_type": "display_data"
    },
    {
     "data": {
      "application/vnd.jupyter.widget-view+json": {
       "model_id": "",
       "version_major": 2,
       "version_minor": 0
      },
      "text/plain": [
       "Validation: |          | 0/? [00:00<?, ?it/s]"
      ]
     },
     "metadata": {},
     "output_type": "display_data"
    },
    {
     "data": {
      "application/vnd.jupyter.widget-view+json": {
       "model_id": "",
       "version_major": 2,
       "version_minor": 0
      },
      "text/plain": [
       "Validation: |          | 0/? [00:00<?, ?it/s]"
      ]
     },
     "metadata": {},
     "output_type": "display_data"
    },
    {
     "data": {
      "application/vnd.jupyter.widget-view+json": {
       "model_id": "",
       "version_major": 2,
       "version_minor": 0
      },
      "text/plain": [
       "Validation: |          | 0/? [00:00<?, ?it/s]"
      ]
     },
     "metadata": {},
     "output_type": "display_data"
    },
    {
     "data": {
      "application/vnd.jupyter.widget-view+json": {
       "model_id": "",
       "version_major": 2,
       "version_minor": 0
      },
      "text/plain": [
       "Validation: |          | 0/? [00:00<?, ?it/s]"
      ]
     },
     "metadata": {},
     "output_type": "display_data"
    },
    {
     "data": {
      "application/vnd.jupyter.widget-view+json": {
       "model_id": "",
       "version_major": 2,
       "version_minor": 0
      },
      "text/plain": [
       "Validation: |          | 0/? [00:00<?, ?it/s]"
      ]
     },
     "metadata": {},
     "output_type": "display_data"
    }
   ],
   "source": [
    "if __name__ == \"__main__\":\n",
    "    # Load the resnet model with pre-trained weights\n",
    "    model_architecture = torchvision.models.resnet18(weights=ResNet18_Weights.IMAGENET1K_V1)\n",
    "    model = Model(model=model_architecture, lr=1e-4, wd=1e-6)\n",
    "\n",
    "    max_epochs = 100\n",
    "    torch.set_float32_matmul_precision('medium')\n",
    "    model_path = \"checkpoints/Model_A\"\n",
    "    batch_size = 32\n",
    "    # Set seed for reproducibility\n",
    "    seed = 10\n",
    "    set_seed(seed)\n",
    "    # Create dataset and split it into train, and validation\n",
    "    cat_dog_dataset = AnimalImage(data_root=\"/home/mdnurualabsarsiddiky/Desktop/Absar/ECGR8119/Midterm_2024/dogs_vs_cats/train\", transformation=get_transformation())\n",
    "    train_data, val_data, _ = random_split(cat_dog_dataset, [0.6, 0.1, 0.3],\n",
    "                                           generator=torch.Generator().manual_seed(seed))\n",
    "    ##\n",
    "    train_loader = DataLoader(train_data, batch_size=batch_size, shuffle=True, drop_last=True, pin_memory=True, num_workers=2)\n",
    "    val_loader = DataLoader(val_data, batch_size=batch_size, shuffle=False, pin_memory=True, num_workers=2, drop_last=False)\n",
    "\n",
    "    # Set up logging for training progress\n",
    "    csv_logger = pl_loggers.CSVLogger(save_dir=os.path.join(model_path, \"SRGAN/SRGAN_train.log/\"))\n",
    "    tb_logger = TensorBoardLogger(save_dir=os.path.join(model_path, \"tb_log/\"), name=\"resnet18\")\n",
    "    # Define early stopping criteria\n",
    "    monitor = \"val_loss\"\n",
    "    mode = \"min\"\n",
    "    early_stopping = EarlyStopping(monitor=monitor, patience=10, verbose=False, mode=mode)\n",
    "    # Initialize the trainer and start training\n",
    "    trainer = pl.Trainer(\n",
    "        default_root_dir=model_path,\n",
    "        accelerator=\"gpu\",\n",
    "        max_epochs=max_epochs,\n",
    "        callbacks=[\n",
    "            early_stopping,\n",
    "            ModelCheckpoint(dirpath=model_path, filename=\"resnet18-{epoch}-{val_loss:.2f}\", save_top_k=1,\n",
    "                            save_weights_only=True, mode=mode, monitor=monitor),\n",
    "        ],\n",
    "        logger=[tb_logger, csv_logger],\n",
    "    )\n",
    "    trainer.fit(model, train_dataloaders=train_loader, val_dataloaders=val_loader)\n"
   ]
  },
  {
   "cell_type": "code",
   "execution_count": null,
   "id": "b33cfe4f",
   "metadata": {},
   "outputs": [],
   "source": []
  }
 ],
 "metadata": {
  "kernelspec": {
   "display_name": "Python 3",
   "language": "python",
   "name": "python3"
  },
  "language_info": {
   "codemirror_mode": {
    "name": "ipython",
    "version": 3
   },
   "file_extension": ".py",
   "mimetype": "text/x-python",
   "name": "python",
   "nbconvert_exporter": "python",
   "pygments_lexer": "ipython3",
   "version": "3.8.10"
  }
 },
 "nbformat": 4,
 "nbformat_minor": 5
}
